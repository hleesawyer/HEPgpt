{
 "cells": [
  {
   "cell_type": "code",
   "execution_count": null,
   "metadata": {},
   "outputs": [],
   "source": [
    "from IPython.core.magic import register_line_cell_magic\n",
    "import subprocess\n",
    "import sys"
   ]
  },
  {
   "cell_type": "code",
   "execution_count": 1,
   "metadata": {},
   "outputs": [],
   "source": [
    "@register_line_cell_magic\n",
    "def nim(line, cell):\n",
    "    fp = open(\"for_nim_magic.nim\", \"w\")\n",
    "    fp.write(cell)\n",
    "    fp.close()\n",
    "    p = subprocess.Popen([\"nim\", \"compile\", \"--run\", \"for_nim_magic.nim\"], stdout=subprocess.PIPE)\n",
    "    out, err = p.communicate()\n",
    "    if err:\n",
    "        print(err.decode(\"utf-8\"), file=sys.stderr)\n",
    "    if out:\n",
    "        print(out.decode(\"utf-8\"))    "
   ]
  },
  {
   "cell_type": "code",
   "execution_count": 2,
   "metadata": {},
   "outputs": [
    {
     "name": "stdout",
     "output_type": "stream",
     "text": [
      "test\n",
      "\n"
     ]
    },
    {
     "name": "stderr",
     "output_type": "stream",
     "text": [
      "Hint: used config file '/home/wrkn/anaconda3/envs/nimAll/nim/config/nim.cfg' [Conf]\n",
      "Hint: used config file '/home/wrkn/anaconda3/envs/nimAll/nim/config/config.nims' [Conf]\n",
      "Hint: 7878 lines; 0.014s; 6.984MiB peakmem; Debug build; proj: /home/wrkn/GitRepos/NimProjectsP/toolbox/nimTutorial/default.nim; out: /home/wrkn/GitRepos/NimProjectsP/toolbox/nimTutorial/default [SuccessX]\n",
      "Hint: /home/wrkn/GitRepos/NimProjectsP/toolbox/nimTutorial/default  [Exec]\n"
     ]
    }
   ],
   "source": [
    "%%nim\n",
    "echo \"test\""
   ]
  },
  {
   "cell_type": "code",
   "execution_count": null,
   "metadata": {},
   "outputs": [],
   "source": []
  }
 ],
 "metadata": {
  "kernelspec": {
   "display_name": "Python 3.8.10 64-bit",
   "language": "python",
   "name": "python3"
  },
  "language_info": {
   "codemirror_mode": {
    "name": "ipython",
    "version": 3
   },
   "file_extension": ".py",
   "mimetype": "text/x-python",
   "name": "python",
   "nbconvert_exporter": "python",
   "pygments_lexer": "ipython3",
   "version": "3.8.10"
  },
  "orig_nbformat": 4,
  "vscode": {
   "interpreter": {
    "hash": "916dbcbb3f70747c44a77c7bcd40155683ae19c65e1c03b4aa3499c5328201f1"
   }
  }
 },
 "nbformat": 4,
 "nbformat_minor": 2
}

{
 "cells": [
  {
   "cell_type": "code",
   "execution_count": 2,
   "metadata": {},
   "outputs": [],
   "source": [
    "from IPython.core.magic import register_line_cell_magic\n",
    "import subprocess\n",
    "import sys"
   ]
  },
  {
   "cell_type": "code",
   "execution_count": 3,
   "metadata": {},
   "outputs": [],
   "source": [
    "@register_line_cell_magic\n",
    "def nim(line, cell):\n",
    "    fp = open(\"for_nim_magic.nim\", \"w\")\n",
    "    fp.write(cell)\n",
    "    fp.close()\n",
    "    p = subprocess.Popen([\"nim\", \"compile\", \"--run\", \"for_nim_magic.nim\"], stdout=subprocess.PIPE)\n",
    "    out, err = p.communicate()\n",
    "    if err:\n",
    "        print(err.decode(\"utf-8\"), file=sys.stderr)\n",
    "    if out:\n",
    "        print(out.decode(\"utf-8\"),\"\\n\\n\\n\")    "
   ]
  },
  {
   "cell_type": "code",
   "execution_count": 53,
   "metadata": {},
   "outputs": [],
   "source": [
    "# IF THE URLS need \"-d:ssl\"\n",
    "\n",
    "@register_line_cell_magic\n",
    "def nim(line, cell):\n",
    "    fp = open(\"for_nim_magic.nim\", \"w\")\n",
    "    fp.write(cell)\n",
    "    fp.close()\n",
    "    p = subprocess.Popen([\"nim\", \"compile\", \"--run\", \"-d:ssl\", \"for_nim_magic.nim\"], stdout=subprocess.PIPE)\n",
    "    out, err = p.communicate()\n",
    "    if err:\n",
    "        print(err.decode(\"utf-8\"), file=sys.stderr)\n",
    "    if out:\n",
    "        print(out.decode(\"utf-8\"),\"\\n\\n\\n\")    "
   ]
  },
  {
   "cell_type": "code",
   "execution_count": 5,
   "metadata": {},
   "outputs": [
    {
     "name": "stdout",
     "output_type": "stream",
     "text": [
      "test\n",
      " \n",
      "\n",
      "\n",
      "\n"
     ]
    },
    {
     "name": "stderr",
     "output_type": "stream",
     "text": [
      "Hint: used config file '/home/wrkn/miniconda3/envs/hepgpt/nim/config/nim.cfg' [Conf]\n",
      "Hint: used config file '/home/wrkn/miniconda3/envs/hepgpt/nim/config/config.nims' [Conf]\n",
      "Hint: 7878 lines; 0.026s; 6.992MiB peakmem; Debug build; proj: /home/wrkn/GitRepos/HEPgpt/for_nim_magic.nim; out: /home/wrkn/GitRepos/HEPgpt/for_nim_magic [SuccessX]\n",
      "Hint: /home/wrkn/GitRepos/HEPgpt/for_nim_magic  [Exec]\n"
     ]
    }
   ],
   "source": [
    "%%nim\n",
    "echo \"test\""
   ]
  },
  {
   "cell_type": "markdown",
   "metadata": {},
   "source": [
    "# IMPORTANT!\n",
    "In the robots.txt file of \"https://atlassoftwaredocs.web.cern.ch\" it says \"Sitemap: /sitemap.xml\"\n",
    "\n",
    "Thus, we can navigate to \"https://atlassoftwaredocs.web.cern.ch/sitemap.xml\" to simply get all the urls \n",
    "that will populate our robots.txt file according to the documentation on this domain!\n",
    "\n",
    "##### Other things to Do\n",
    "- anti crawler blocking tactics: https://oxylabs.io/blog/how-to-crawl-a-website-without-getting-blocked\n",
    "- better/more documentation data from cern (talk to sawyer)\n",
    "\n",
    "##### A Problem:\n",
    "https://project-search.web.cern.ch/ <br>\n",
    "There appears to be a cern search project underway that will simplify the online documentation for cern. It directly conflicts with our project, but it looks like they havn't done anything yet, so we need to move very fast.\n",
    "\n",
    "##### Gather Data At\n",
    "search.cern.ch "
   ]
  }
 ],
 "metadata": {
  "kernelspec": {
   "display_name": "Python 3.10.10 ('hepgpt')",
   "language": "python",
   "name": "python3"
  },
  "language_info": {
   "codemirror_mode": {
    "name": "ipython",
    "version": 3
   },
   "file_extension": ".py",
   "mimetype": "text/x-python",
   "name": "python",
   "nbconvert_exporter": "python",
   "pygments_lexer": "ipython3",
   "version": "3.10.10"
  },
  "orig_nbformat": 4,
  "vscode": {
   "interpreter": {
    "hash": "fa4330bd32747e48d18ddc83e8d837a0e791710c7b2f05da0b57ce6034a1e1c7"
   }
  }
 },
 "nbformat": 4,
 "nbformat_minor": 2
}

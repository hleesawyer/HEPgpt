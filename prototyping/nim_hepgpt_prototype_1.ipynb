{
 "cells": [
  {
   "cell_type": "code",
   "execution_count": null,
   "metadata": {},
   "outputs": [],
   "source": [
    "from IPython.core.magic import register_line_cell_magic\n",
    "import subprocess\n",
    "import sys"
   ]
  },
  {
   "cell_type": "code",
   "execution_count": null,
   "metadata": {},
   "outputs": [],
   "source": [
    "@register_line_cell_magic\n",
    "def nim(line, cell):\n",
    "    fp = open(\"for_nim_magic.nim\", \"w\")\n",
    "    fp.write(cell)\n",
    "    fp.close()\n",
    "    p = subprocess.Popen([\"nim\", \"compile\", \"--run\", \"for_nim_magic.nim\"], stdout=subprocess.PIPE)\n",
    "    out, err = p.communicate()\n",
    "    if err:\n",
    "        print(err.decode(\"utf-8\"), file=sys.stderr)\n",
    "    if out:\n",
    "        print(out.decode(\"utf-8\"))    "
   ]
  },
  {
   "cell_type": "code",
   "execution_count": null,
   "metadata": {},
   "outputs": [],
   "source": [
    "%%nim\n",
    "echo \"test\""
   ]
  },
  {
   "cell_type": "code",
   "execution_count": null,
   "metadata": {},
   "outputs": [],
   "source": []
  }
 ],
 "metadata": {
  "kernelspec": {
   "display_name": "Python 3.10.10 ('hepgpt')",
   "language": "python",
   "name": "python3"
  },
  "language_info": {
   "codemirror_mode": {
    "name": "ipython",
    "version": 3
   },
   "file_extension": ".py",
   "mimetype": "text/x-python",
   "name": "python",
   "nbconvert_exporter": "python",
   "pygments_lexer": "ipython3",
   "version": "3.10.10"
  },
  "orig_nbformat": 4,
  "vscode": {
   "interpreter": {
    "hash": "fa4330bd32747e48d18ddc83e8d837a0e791710c7b2f05da0b57ce6034a1e1c7"
   }
  }
 },
 "nbformat": 4,
 "nbformat_minor": 2
}
